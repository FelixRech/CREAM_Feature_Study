{
  "nbformat": 4,
  "nbformat_minor": 0,
  "metadata": {
    "colab": {
      "name": "CREAM_convert",
      "provenance": [],
      "collapsed_sections": []
    },
    "kernelspec": {
      "name": "python3",
      "display_name": "Python 3"
    }
  },
  "cells": [
    {
      "cell_type": "markdown",
      "metadata": {
        "id": "bgqacs514oPZ"
      },
      "source": [
        "## Setup"
      ]
    },
    {
      "cell_type": "code",
      "metadata": {
        "id": "v0ufVQLKzNfb"
      },
      "source": [
        "import os\n",
        "import sys\n",
        "import csv\n",
        "import time\n",
        "import numpy as np\n",
        "import itertools"
      ],
      "execution_count": 1,
      "outputs": []
    },
    {
      "cell_type": "code",
      "metadata": {
        "id": "rkCBA5ZQS_WN"
      },
      "source": [
        "PATH_TO_DATA = '/var/lib/cream/'\n",
        "PATH_TO_CREAM = PATH_TO_DATA + 'CREAM/'\n",
        "LINE_DEL = ''.join(itertools.repeat('\\r', 50))"
      ],
      "execution_count": 2,
      "outputs": []
    },
    {
      "cell_type": "code",
      "metadata": {
        "id": "h6bJQioGzIiN"
      },
      "source": [
        "# Import the CREAM data utility\n",
        "sys.path.append(PATH_TO_CREAM + 'data_utility/')\n",
        "from data_utility import CREAM_Day\n",
        "\n",
        "cream = CREAM_Day(PATH_TO_DATA + '2018-08-23/')\n",
        "\n",
        "# Load the electrical component events\n",
        "all_component_events = cream.load_component_events(\n",
        "    PATH_TO_DATA + \"component_events.csv\", filter_day=False\n",
        ")"
      ],
      "execution_count": 3,
      "outputs": []
    },
    {
      "cell_type": "code",
      "metadata": {
        "id": "ztU81poZ3k-K"
      },
      "source": [
        "# Create the folder for the csv files\n",
        "if not os.path.isdir(PATH_TO_DATA + 'component_events'):\n",
        "    os.mkdir(PATH_TO_DATA + 'component_events')"
      ],
      "execution_count": 4,
      "outputs": []
    },
    {
      "cell_type": "markdown",
      "metadata": {
        "id": "ZgOBMvbD4ySO"
      },
      "source": [
        "## Converting the dataset"
      ]
    },
    {
      "cell_type": "code",
      "metadata": {
        "id": "t0BQEOpny_z4"
      },
      "source": [
        "start = time.time()\n",
        "labeled_events = all_component_events[all_component_events.Component != 'unlabeled']\n",
        "\n",
        "for event in labeled_events.itertuples():\n",
        "    percent_done = round(100 * event.ID / 92701, 2)\n",
        "    remaining = int(((time.time() - start) / (percent_done / 100)) / 60)\n",
        "    print(f'{LINE_DEL}{percent_done}% finished   {remaining} minutes remaining',\n",
        "          f'reading event ID-{event.ID}',\n",
        "          end='', flush=True)\n",
        "    cream_day = CREAM_Day(PATH_TO_DATA + str(event.Date))\n",
        "    voltage, current = \\\n",
        "        cream_day.load_time_frame(event.Timestamp, 10, return_noise=False)\n",
        "    with open(f\"{PATH_TO_DATA}component_events/{event.ID}.csv\", 'w') as f:\n",
        "        writer = csv.writer(f)\n",
        "        writer.writerow(voltage)\n",
        "        writer.writerow(current)\n",
        "\n",
        "print(f\"{LINE_DEL}FINISHED!\")"
      ],
      "execution_count": 5,
      "outputs": [
        {
          "output_type": "stream",
          "text": [
            "FINISHED!\n"
          ],
          "name": "stdout"
        }
      ]
    },
    {
      "cell_type": "markdown",
      "metadata": {
        "id": "Gwjf4pO34q6g"
      },
      "source": [
        "## Analyzing performance"
      ]
    },
    {
      "cell_type": "code",
      "metadata": {
        "id": "pyL_EA7jcYpl",
        "outputId": "80d013d8-0c95-4235-bcfa-6a97203a933b",
        "colab": {
          "base_uri": "https://localhost:8080/"
        }
      },
      "source": [
        "event = all_component_events[all_component_events.Component != 'unlabeled'].iloc[0]\n",
        "\n",
        "start = time.time()\n",
        "cream_day = CREAM_Day(PATH_TO_DATA + str(event.Date))\n",
        "voltage, current = cream_day.load_time_frame(event.Timestamp, 10, return_noise=False)\n",
        "print(\"Reading hdf5:\\t{}s\".format(round(time.time() - start, 2)))\n",
        "\n",
        "start = time.time()\n",
        "with open(f\"{PATH_TO_DATA}component_events/{event.ID}.csv\", 'r') as f:\n",
        "    reader = csv.reader(f)\n",
        "    voltage_csv = np.array(next(reader)).astype(float)\n",
        "    current_csv = np.array(next(reader)).astype(float)\n",
        "print(\"Reading csv:\\t{}s\".format(round(time.time() - start, 2)))"
      ],
      "execution_count": 6,
      "outputs": [
        {
          "output_type": "stream",
          "text": [
            "Reading hdf5:\t6.65s\n",
            "Reading csv:\t0.11s\n"
          ],
          "name": "stdout"
        }
      ]
    },
    {
      "cell_type": "code",
      "metadata": {
        "id": "Kd3QMSWGcf-r",
        "outputId": "cbbcf240-e885-4d3c-8397-414e558e6c26",
        "colab": {
          "base_uri": "https://localhost:8080/"
        }
      },
      "source": [
        "# Check for differences in information read from csv compared to original \n",
        "print(\"Maximum difference in voltage:\\t\", np.max(voltage - voltage_csv))\n",
        "print(\"Maximum difference in current:\\t\", np.max(current - current_csv))"
      ],
      "execution_count": 7,
      "outputs": [
        {
          "output_type": "stream",
          "text": [
            "Maximum difference in voltage:\t 0.0\n",
            "Maximum difference in current:\t 0.0\n"
          ],
          "name": "stdout"
        }
      ]
    }
  ]
}
